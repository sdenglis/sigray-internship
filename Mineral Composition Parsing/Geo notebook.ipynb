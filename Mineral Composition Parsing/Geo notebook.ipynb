{
 "cells": [
  {
   "cell_type": "code",
   "execution_count": 1,
   "metadata": {},
   "outputs": [
    {
     "data": {
      "text/html": [
       "        <script type=\"text/javascript\">\n",
       "        window.PlotlyConfig = {MathJaxConfig: 'local'};\n",
       "        if (window.MathJax) {MathJax.Hub.Config({SVG: {font: \"STIX-Web\"}});}\n",
       "        if (typeof require !== 'undefined') {\n",
       "        require.undef(\"plotly\");\n",
       "        requirejs.config({\n",
       "            paths: {\n",
       "                'plotly': ['https://cdn.plot.ly/plotly-latest.min']\n",
       "            }\n",
       "        });\n",
       "        require(['plotly'], function(Plotly) {\n",
       "            window._Plotly = Plotly;\n",
       "        });\n",
       "        }\n",
       "        </script>\n",
       "        "
      ]
     },
     "metadata": {},
     "output_type": "display_data"
    },
    {
     "name": "stdout",
     "output_type": "stream",
     "text": [
      "4.8.1\n",
      "Loading Data:\n",
      "Qt load Bar:True\n",
      "..........Finished Loading Data.\n",
      "C:/Users/ENG/Desktop/ben mineral sigray/RS20200610-01/container\\RS20200610-01_OverView.jpg\n",
      "File Loaded\n",
      "<sigray_state.sigray_treeitem object at 0x000000000FC68D38>\n",
      "sumspectra print form load\n",
      "[5.10401e+05 3.70308e+05 2.12330e+05 ... 2.18000e+02 2.10000e+02\n",
      " 2.17000e+02]\n"
     ]
    },
    {
     "name": "stderr",
     "output_type": "stream",
     "text": [
      "C:\\Users\\ENG\\Desktop\\ben mineral sigray\\v02\\sigray_xrfpeakclass.py:2706: RuntimeWarning:\n",
      "\n",
      "invalid value encountered in divide\n",
      "\n"
     ]
    },
    {
     "name": "stdout",
     "output_type": "stream",
     "text": [
      "LM FIT!\n"
     ]
    },
    {
     "name": "stderr",
     "output_type": "stream",
     "text": [
      "C:\\Users\\ENG\\Anaconda3\\envs\\Python 2.7\\lib\\site-packages\\scipy\\optimize\\_lsq\\least_squares.py:853: UserWarning:\n",
      "\n",
      "jac='3-point' works equivalently to '2-point' for method='lm'.\n",
      "\n"
     ]
    },
    {
     "name": "stdout",
     "output_type": "stream",
     "text": [
      "calculating matrix\n"
     ]
    }
   ],
   "source": [
    "import sys\n",
    "sys.path.append(\"C:\\\\Users\\\\ENG\\\\Desktop\\\\ben mineral sigray\\\\v02\")\n",
    "import sigray\n",
    "sig = sigray.sigray_datahandler()\n",
    "sig.runGUI()"
   ]
  },
  {
   "cell_type": "code",
   "execution_count": null,
   "metadata": {},
   "outputs": [],
   "source": []
  }
 ],
 "metadata": {
  "kernelspec": {
   "display_name": "Python 2",
   "language": "python",
   "name": "python2"
  },
  "language_info": {
   "codemirror_mode": {
    "name": "ipython",
    "version": 2
   },
   "file_extension": ".py",
   "mimetype": "text/x-python",
   "name": "python",
   "nbconvert_exporter": "python",
   "pygments_lexer": "ipython2",
   "version": "2.7.18"
  }
 },
 "nbformat": 4,
 "nbformat_minor": 2
}
